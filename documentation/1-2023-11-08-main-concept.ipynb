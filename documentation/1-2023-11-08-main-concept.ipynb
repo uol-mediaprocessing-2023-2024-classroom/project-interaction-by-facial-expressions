{
 "cells": [
  {
   "cell_type": "markdown",
   "source": [
    "# Main concept (08.11.2023)\n",
    "\n",
    "## Table of Contents:\n",
    "* [Example of commands](#scrollTo=example-commands)\n",
    "* [GUI wireframe](#scrollTo=gui-wireframe)\n",
    "\n",
    "Our goal is to develop an application that makes it possible to take photos using a webcam and save them into a gallery. This gallery can be navigated by using gestures and facial expressions. In addition, the user should be able to apply different filters to the photos. These filters should be triggered by certain gestures and facial expressions. We refer to the gestures and facial expressions as **commands**.\n",
    "\n",
    "## Example of commands <a class=\"anchor\" id=\"example-commands\"></a>\n",
    "\n",
    "As of now we decided to implement the following commands to our project.\n",
    "\n",
    "### Navigation:\n",
    "\n",
    "* “Go to next photo” &rarr; Close your right eye​\n",
    "* “Go to previous photo” &rarr; Close your left eye​\n",
    "\n",
    "### Actions:\n",
    "\n",
    "* “Take a photo” &rarr; Connect thumb and index finger​\n",
    "* “Undo” &rarr; Close both eyes\n",
    "\n",
    "### Filters:\n",
    "* “Blur Image” &rarr; Hold hand in front of eyes​\n",
    "* “Invert” &rarr; Thumbs down​\n",
    "* “Black and white” &rarr; Peace sign\n",
    "\n",
    "\n",
    "## GUI wireframe <a class=\"anchor\" id=\"gui-wireframe\"></a>\n",
    "As we settled on our commands we created a wireframe of the frontend of our project.\n",
    "\n",
    "The main area features a webcam view right in the middle of the screen. We decided to place the webcam view in the middle since the user tends to look at the webcam view rather than the webcam itself which is usually placed in the middle at the top of the screen. This way we can track the eye movements more accurately.\n",
    "There is a smaller view in the top right corner of the webcam view which shows the photo taken. At the bottom of the webcam view there is a camera button which takes a photo if pressed. As of now we are still testing the implementations of our commands so there is a camera button to take a photo. However we are going to remove it once the command which is triggered by facial expressions is fully functional.\n",
    "\n",
    "On the right side of the webcam view there is a command log which shows the last five commands done by the user. On the left side of the webcam view there is going to be a \"Help\" symbol which will show the possible command inputs if the user clicks on it.\n",
    "\n",
    "Below the webcam view there is going to be an area to modify a photo by applying filters. On both sides of the modifying area there are going to be previews of the next photo in the album and the previous photo. Below the modifying area there is an undo button to rollback on changes to the photo.\n",
    "\n",
    "If the user scrolls further down the user can view all of their photos in a gallery. There is going to be an area as well where the user can upload their photos which can be modified as well.\n",
    "<br>\n",
    "<div align=\"center\">\n",
    "<img src=\"images/concept_GUI_withPhotos.png\" alt=\"Concept of GUI with photos\" width=\"750\"/>\n",
    "</div>"
   ],
   "metadata": {
    "collapsed": false
   },
   "id": "f518b36ce8d357aa"
  },
  {
   "cell_type": "markdown",
   "source": [],
   "metadata": {
    "collapsed": false
   },
   "id": "166b487c36681427"
  }
 ],
 "metadata": {
  "kernelspec": {
   "display_name": "Python 3",
   "language": "python",
   "name": "python3"
  },
  "language_info": {
   "codemirror_mode": {
    "name": "ipython",
    "version": 2
   },
   "file_extension": ".py",
   "mimetype": "text/x-python",
   "name": "python",
   "nbconvert_exporter": "python",
   "pygments_lexer": "ipython2",
   "version": "2.7.6"
  }
 },
 "nbformat": 4,
 "nbformat_minor": 5
}
