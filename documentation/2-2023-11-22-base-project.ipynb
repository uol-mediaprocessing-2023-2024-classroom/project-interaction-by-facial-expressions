{
 "cells": [
  {
   "cell_type": "markdown",
   "source": [
    "# Base Project (22.11.2023)\n",
    "## GUI\n",
    "\n",
    "This is the current GUI as of the 22.11.2023. For now we added buttons for the filters above the modifying area to apply filters manually. Once it is possible to recognize gestures we are going to remove the buttons so the user can apply filters by commands.\n",
    "<br>\n",
    "<div align=\"center\">\n",
    "<img src=\"images/GUI_prototype.jpeg\" alt=\"GUI as of the 22nd November 2023\" width=\"750\"/>\n",
    "</div>\n",
    "\n",
    "## Filters\n",
    "We have added three different basic filters to apply to the images: Blur, Invert and Black and White. Since this is a prototype we just wanted to showcase what would be possible with our application. Therefore we did not implement any elaborate filters.\n",
    "\n",
    "### Black and white (Thresholding)\n",
    "In order to create a filter that converts an image into grayscale or in the colors black and white we used [Image Thresholding](https://docs.opencv.org/3.4/d7/d4d/tutorial_py_thresholding.html).\n",
    "\n",
    "**cv2.threshold(img, 25, 255, cv2.THRESH_TOZERO)**\n",
    "\n",
    "The method can be explained as followed:\n",
    "- **img**: The image in grayscale.\n",
    "- **Second argument**: The pixel value threshold.\n",
    "- **Third argument**: the maximum value the image can have later. The value 255 is white.\n",
    "- **cv2.THRESH_TOZERO**: The type of thresholding. This type will use the second argument (for e.g. 25) and sets every pixel that has a lower value than the second argument to 0 (black). However values above the seconde argument will remain in grayscale\n",
    "\n",
    "Another type we tried out was **cv.THRESH_BINARY**. This type would turn every pixel with a lower value than the threshold to 0 (black) and everything above to 255 (white) so the image would strictly consist of black or white pixels.\n",
    "\n",
    "Different black and white filters of [this image](https://github.com/uol-mediaprocessing-2023-2024-classroom/class_materials/blob/main/pictures/Lenna.png) may look like this:\n"
   ],
   "metadata": {
    "collapsed": false
   },
   "id": "2266b1af7d288723"
  },
  {
   "cell_type": "code",
   "execution_count": null,
   "outputs": [],
   "source": [
    "from matplotlib import pyplot as plt\n",
    "import cv2\n",
    "plt.rcParams[\"figure.figsize\"] = (10, 10)\n",
    "! wget -q https://raw.githubusercontent.com/uol-mediaprocessing/notebooks/master/pictures/Lenna.png\n",
    "img = cv2.imread(\"Lenna.png\")\n",
    "img = cv2.cvtColor(image_rgb, cv2.COLOR_BGR2GRAY)\n",
    "\n",
    "ret,thresh1 = cv2.threshold(img,25,255,cv2.THRESH_TOZERO)\n",
    "ret,thresh2 = cv2.threshold(img,127,255,cv2.THRESH_TOZERO)\n",
    "ret,thresh3 = cv2.threshold(img,127,255,cv2.THRESH_BINARY)\n",
    "ret,thresh4 = cv2.threshold(img,50,255,cv2.THRESH_BINARY)\n",
    "titles = ['TOZERO 25','TOZERO 127','BINARY 127','BINARY 50']\n",
    "images = [thresh1, thresh2, thresh3, thresh4]\n",
    "for i in range(4):\n",
    "    plt.subplot(2,2,i+1),plt.imshow(images[i],'gray',vmin=0,vmax=255)\n",
    "    plt.title(titles[i])\n",
    "    plt.xticks([]),plt.yticks([])\n",
    "plt.show()"
   ],
   "metadata": {
    "collapsed": false
   },
   "id": "59edf08be8ca86f2"
  },
  {
   "cell_type": "markdown",
   "source": [
    "Learning about these filters was a good way for us to familiarize ourselves with OpenCV as well as refamiliarize ourselves with python. The black and white filter was an example of what we have learned. We did not provide the code for invert and blur, since that can be found in the OpenCV documentation (i.e. [here](https://docs.opencv.org/3.4/d4/d13/tutorial_py_filtering.html) and we do not see the necessity in providing this code. "
   ],
   "metadata": {
    "collapsed": false
   },
   "id": "8c3259b7fba26aca"
  }
 ],
 "metadata": {
  "kernelspec": {
   "display_name": "Python 3",
   "language": "python",
   "name": "python3"
  },
  "language_info": {
   "codemirror_mode": {
    "name": "ipython",
    "version": 2
   },
   "file_extension": ".py",
   "mimetype": "text/x-python",
   "name": "python",
   "nbconvert_exporter": "python",
   "pygments_lexer": "ipython2",
   "version": "2.7.6"
  }
 },
 "nbformat": 4,
 "nbformat_minor": 5
}
