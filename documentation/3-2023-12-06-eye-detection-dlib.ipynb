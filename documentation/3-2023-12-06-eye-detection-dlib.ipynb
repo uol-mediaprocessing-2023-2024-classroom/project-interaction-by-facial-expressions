{
 "cells": [
  {
   "cell_type": "markdown",
   "source": [
    "# Tests with dlib-Models (06.12.2023)\n",
    "\n",
    "We used the [shape_predictor_68_face_landmarks](https://github.com/davisking/dlib-models/blob/master/shape_predictor_68_face_landmarks.dat.bz2) by davisking to help us detect the eyes in a face. For the face detection we used the haarcascade_frontalface_default model from OpenCV. The code for the eye detection is roughly based of the article [Eye Aspect Ratio(EAR) and Drowsiness detector using dlib](https://medium.com/analytics-vidhya/eye-aspect-ratio-ear-and-drowsiness-detector-using-dlib-a0b2c292d706) by Dhruv Pandey\n",
    "\n",
    "## Eye Detection\n",
    "Dlib detects 68 landmarks in a face with 37-42 being the landmarks of the right eye and 43-48 of the left eye. This means that each eye is represented by 6 landmark points. Those 6 points are put into a formula which calculates the Eye-Aspect-Ratio (EAR)."
   ],
   "metadata": {
    "collapsed": false
   },
   "id": "2ef81d4e48c33a1f"
  },
  {
   "cell_type": "code",
   "execution_count": null,
   "outputs": [],
   "source": [
    "def eye_aspect_ratio(eye):\n",
    "    A = dist.euclidean(eye[1], eye[5])\n",
    "    B = dist.euclidean(eye[2], eye[4])\n",
    "    C = dist.euclidean(eye[0], eye[3])\n",
    "    ear = (A + B) / (2.0 * C)\n",
    "    return ear"
   ],
   "metadata": {
    "collapsed": false
   },
   "id": "9d39112fd616b1bd"
  },
  {
   "cell_type": "markdown",
   "source": [
    "The value of the EAR is higher when the eye is open and lower when it's closed. So the idea is to use a value as a threshold which we then check in an if-condition to determine whether an eye is closed or not."
   ],
   "metadata": {
    "collapsed": false
   },
   "id": "dabdc0d6a8f52c1e"
  },
  {
   "cell_type": "code",
   "execution_count": null,
   "outputs": [],
   "source": [
    " EYE_AR_THRESH = 0.18\n",
    "\n",
    " if leftEAR < 0.18:\n",
    "            # Left eye is closed\n",
    "            cv2.putText(frame, \"true\", (630, 30), cv2.FONT_HERSHEY_SIMPLEX, 0.7, (0, 0, 255), 2)\n",
    " elif rightEAR < 0.18:\n",
    "            # Right eye is closed\n",
    "            cv2.putText(frame, \"true\", (1020, 30), cv2.FONT_HERSHEY_SIMPLEX, 0.7, (0, 0, 255), 2)\n",
    " elif leftEAR < EYE_AR_THRESH and rightEAR < EYE_AR_THRESH:\n",
    "            # Both eyes are closed\n",
    "            cv2.putText(frame, \"true\", (270, 30), cv2.FONT_HERSHEY_SIMPLEX, 0.7, (0, 0, 255), 2)"
   ],
   "metadata": {
    "collapsed": false
   },
   "id": "6fd237e0308b0a3b"
  }
 ],
 "metadata": {
  "kernelspec": {
   "display_name": "Python 3",
   "language": "python",
   "name": "python3"
  },
  "language_info": {
   "codemirror_mode": {
    "name": "ipython",
    "version": 2
   },
   "file_extension": ".py",
   "mimetype": "text/x-python",
   "name": "python",
   "nbconvert_exporter": "python",
   "pygments_lexer": "ipython2",
   "version": "2.7.6"
  }
 },
 "nbformat": 4,
 "nbformat_minor": 5
}
